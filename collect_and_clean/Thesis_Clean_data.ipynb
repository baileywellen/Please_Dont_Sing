{
 "cells": [
  {
   "cell_type": "markdown",
   "metadata": {},
   "source": [
    "### This notebook is to transform the raw rating data into standardized scores for each recording"
   ]
  },
  {
   "cell_type": "code",
   "execution_count": 38,
   "metadata": {},
   "outputs": [],
   "source": [
    "import pandas as pd\n",
    "import numpy as np\n",
    "import matplotlib.pyplot as plt\n",
    "\n",
    "from scipy.stats import zscore, iqr\n",
    "from statistics import mean, stdev\n",
    "\n",
    "\n",
    "import seaborn as sns"
   ]
  },
  {
   "cell_type": "code",
   "execution_count": 39,
   "metadata": {},
   "outputs": [],
   "source": [
    "ratings_df = pd.read_csv(\"C:\\\\Users\\\\baile\\\\OneDrive\\\\Desktop\\\\Classes\\\\Fall2020Classes\\\\Thesis\\\\Please_Dont_Sing\\\\collect_and_clean\\\\current_ratings.csv\")"
   ]
  },
  {
   "cell_type": "code",
   "execution_count": 40,
   "metadata": {},
   "outputs": [],
   "source": [
    "### We will calculate the mean and the standard deviation of the ratings for each volunteer"
   ]
  },
  {
   "cell_type": "code",
   "execution_count": 41,
   "metadata": {},
   "outputs": [],
   "source": [
    "ratings_standard_dev = ratings_df.groupby(\"name\").std()\n",
    "ratings_mean = ratings_df.groupby(\"name\").mean()"
   ]
  },
  {
   "cell_type": "code",
   "execution_count": 42,
   "metadata": {},
   "outputs": [
    {
     "data": {
      "text/html": [
       "<div>\n",
       "<style scoped>\n",
       "    .dataframe tbody tr th:only-of-type {\n",
       "        vertical-align: middle;\n",
       "    }\n",
       "\n",
       "    .dataframe tbody tr th {\n",
       "        vertical-align: top;\n",
       "    }\n",
       "\n",
       "    .dataframe thead th {\n",
       "        text-align: right;\n",
       "    }\n",
       "</style>\n",
       "<table border=\"1\" class=\"dataframe\">\n",
       "  <thead>\n",
       "    <tr style=\"text-align: right;\">\n",
       "      <th></th>\n",
       "      <th>rating</th>\n",
       "    </tr>\n",
       "    <tr>\n",
       "      <th>name</th>\n",
       "      <th></th>\n",
       "    </tr>\n",
       "  </thead>\n",
       "  <tbody>\n",
       "    <tr>\n",
       "      <th>Abigail Haworth</th>\n",
       "      <td>1.643168</td>\n",
       "    </tr>\n",
       "    <tr>\n",
       "      <th>Alicia Ver Voort</th>\n",
       "      <td>1.341641</td>\n",
       "    </tr>\n",
       "    <tr>\n",
       "      <th>Alvin Theckedath</th>\n",
       "      <td>2.073644</td>\n",
       "    </tr>\n",
       "    <tr>\n",
       "      <th>Anthony Martin</th>\n",
       "      <td>1.816590</td>\n",
       "    </tr>\n",
       "    <tr>\n",
       "      <th>Azniv Khaligian</th>\n",
       "      <td>2.375647</td>\n",
       "    </tr>\n",
       "  </tbody>\n",
       "</table>\n",
       "</div>"
      ],
      "text/plain": [
       "                    rating\n",
       "name                      \n",
       "Abigail Haworth   1.643168\n",
       "Alicia Ver Voort  1.341641\n",
       "Alvin Theckedath  2.073644\n",
       "Anthony Martin    1.816590\n",
       "Azniv Khaligian   2.375647"
      ]
     },
     "execution_count": 42,
     "metadata": {},
     "output_type": "execute_result"
    }
   ],
   "source": [
    "ratings_standard_dev.head()"
   ]
  },
  {
   "cell_type": "code",
   "execution_count": 45,
   "metadata": {},
   "outputs": [
    {
     "data": {
      "text/html": [
       "<div>\n",
       "<style scoped>\n",
       "    .dataframe tbody tr th:only-of-type {\n",
       "        vertical-align: middle;\n",
       "    }\n",
       "\n",
       "    .dataframe tbody tr th {\n",
       "        vertical-align: top;\n",
       "    }\n",
       "\n",
       "    .dataframe thead th {\n",
       "        text-align: right;\n",
       "    }\n",
       "</style>\n",
       "<table border=\"1\" class=\"dataframe\">\n",
       "  <thead>\n",
       "    <tr style=\"text-align: right;\">\n",
       "      <th></th>\n",
       "      <th>rating</th>\n",
       "    </tr>\n",
       "    <tr>\n",
       "      <th>name</th>\n",
       "      <th></th>\n",
       "    </tr>\n",
       "  </thead>\n",
       "  <tbody>\n",
       "    <tr>\n",
       "      <th>Abigail Haworth</th>\n",
       "      <td>6.200000</td>\n",
       "    </tr>\n",
       "    <tr>\n",
       "      <th>Alicia Ver Voort</th>\n",
       "      <td>6.400000</td>\n",
       "    </tr>\n",
       "    <tr>\n",
       "      <th>Alvin Theckedath</th>\n",
       "      <td>3.400000</td>\n",
       "    </tr>\n",
       "    <tr>\n",
       "      <th>Anthony Martin</th>\n",
       "      <td>5.400000</td>\n",
       "    </tr>\n",
       "    <tr>\n",
       "      <th>Azniv Khaligian</th>\n",
       "      <td>4.342857</td>\n",
       "    </tr>\n",
       "  </tbody>\n",
       "</table>\n",
       "</div>"
      ],
      "text/plain": [
       "                    rating\n",
       "name                      \n",
       "Abigail Haworth   6.200000\n",
       "Alicia Ver Voort  6.400000\n",
       "Alvin Theckedath  3.400000\n",
       "Anthony Martin    5.400000\n",
       "Azniv Khaligian   4.342857"
      ]
     },
     "execution_count": 45,
     "metadata": {},
     "output_type": "execute_result"
    }
   ],
   "source": [
    "ratings_mean.head()"
   ]
  },
  {
   "cell_type": "markdown",
   "metadata": {},
   "source": [
    "I wonder if the average of the above is a 5? It would be if everyone rated on a fair / even scale..."
   ]
  },
  {
   "cell_type": "code",
   "execution_count": 46,
   "metadata": {},
   "outputs": [
    {
     "data": {
      "text/plain": [
       "5.772736892736891"
      ]
     },
     "execution_count": 46,
     "metadata": {},
     "output_type": "execute_result"
    }
   ],
   "source": [
    "ratings_mean['rating'].mean()"
   ]
  },
  {
   "cell_type": "markdown",
   "metadata": {},
   "source": [
    "It is actually closer than I expected! Nonetheless, we will calculate the z scores to normalize by the variability between people"
   ]
  },
  {
   "cell_type": "markdown",
   "metadata": {},
   "source": [
    "### Next, we create: \n",
    "* a list that holds the difference of each rating from the mean of the rater\n",
    "* a list that holds the z score of each rating (or the difference from the mean / standard deviation) "
   ]
  },
  {
   "cell_type": "code",
   "execution_count": 47,
   "metadata": {},
   "outputs": [],
   "source": [
    "ratings_differences = [(ratings_df.iloc[i, 2] - ratings_mean.loc[ratings_df.iloc[i, 0], 'rating']) for i in range(len(ratings_df))]\n",
    "ratings_normalized = [(ratings_differences[i] / ratings_standard_dev.loc[ratings_df.iloc[i, 0], 'rating']) for i in range(len(ratings_df))]"
   ]
  },
  {
   "cell_type": "code",
   "execution_count": 48,
   "metadata": {},
   "outputs": [
    {
     "data": {
      "text/plain": [
       "[0.1094140829227507,\n",
       " -1.0628796626781505,\n",
       " -0.4767327898776999,\n",
       " -0.4767327898776999,\n",
       " 1.2817078285236518,\n",
       " -1.5825131361498892,\n",
       " 0.395628284037472,\n",
       " -0.26375218935831507,\n",
       " 1.055008757433259,\n",
       " 0.395628284037472,\n",
       " -0.9760066581554423,\n",
       " 0.5384864320857611,\n",
       " 0.033655402005359956,\n",
       " -0.4711756280750412,\n",
       " -1.4808376882358434,\n",
       " 1.5481484922465634,\n",
       " 2.0529795223269645,\n",
       " -0.4711756280750412,\n",
       " -0.9760066581554423,\n",
       " 1.0433174621661623,\n",
       " -0.8323163659625112,\n",
       " 1.7960511054980501,\n",
       " 0.04380612452434253,\n",
       " 0.04380612452434253,\n",
       " 0.4818673697677694,\n",
       " -1.708438856449365,\n",
       " 0.4818673697677694,\n",
       " -0.8323163659625112,\n",
       " -0.39425512071908436,\n",
       " 0.9199286150111963,\n",
       " 0.033655402005359956,\n",
       " -0.4711756280750412,\n",
       " 0.033655402005359956,\n",
       " -0.9760066581554423,\n",
       " 0.5384864320857611,\n",
       " 1.0458607465600853,\n",
       " 0.43064854270121167,\n",
       " 0.43064854270121167,\n",
       " -2.030200272734283,\n",
       " -1.4149880688754093,\n",
       " -0.18456366115766198,\n",
       " -2.030200272734283,\n",
       " 0.43064854270121167,\n",
       " -0.18456366115766198,\n",
       " -0.18456366115766198,\n",
       " -0.18456366115766198,\n",
       " -0.7997758650165356,\n",
       " 0.43064854270121167,\n",
       " -0.18456366115766198,\n",
       " 1.0458607465600853,\n",
       " 1.0458607465600853,\n",
       " -0.7997758650165356,\n",
       " 1.0458607465600853,\n",
       " 1.0458607465600853,\n",
       " 1.0458607465600853,\n",
       " 1.1378089938162428,\n",
       " -0.6400175590216366,\n",
       " -0.04740870807567683,\n",
       " -0.6400175590216366,\n",
       " 1.4341134192892226,\n",
       " 0.35258106688213997,\n",
       " 0.35258106688213997,\n",
       " -1.2144458970384815,\n",
       " 0.35258106688213997,\n",
       " 1.1360945488424508,\n",
       " -0.0391756740980154,\n",
       " 0.35258106688213997,\n",
       " 1.5278512898226062,\n",
       " -1.2144458970384815,\n",
       " -0.4309324150781708,\n",
       " 0.7443378078622954,\n",
       " -1.2144458970384815,\n",
       " 1.9196080308027617,\n",
       " -0.0391756740980154,\n",
       " -1.606202638018637,\n",
       " 0.35258106688213997,\n",
       " 0.7443378078622954,\n",
       " -0.4309324150781708,\n",
       " -1.606202638018637,\n",
       " -0.0391756740980154,\n",
       " -0.04740870807567683,\n",
       " 1.1378089938162428,\n",
       " -0.6400175590216366,\n",
       " 1.4341134192892226,\n",
       " -0.04740870807567683,\n",
       " 1.4341134192892226,\n",
       " -1.2326264099675963,\n",
       " -0.9363219844946165,\n",
       " -0.6400175590216366,\n",
       " 1.1378089938162428,\n",
       " -1.2326264099675963,\n",
       " -0.34371313354865674,\n",
       " -0.9363219844946165,\n",
       " 0.24889571739730307,\n",
       " 1.4341134192892226,\n",
       " -0.6400175590216366,\n",
       " -1.2326264099675963,\n",
       " 1.4341134192892226,\n",
       " -0.9363219844946165,\n",
       " -0.6400175590216366,\n",
       " -0.792824967172092,\n",
       " 1.009049958219026,\n",
       " -0.07207499701564479,\n",
       " -1.1531999522503156,\n",
       " 1.009049958219026,\n",
       " -1.1726208874261028,\n",
       " 1.0969679269469996,\n",
       " 0.7187031245514826,\n",
       " 0.3404383221559655,\n",
       " -0.4160912826350686,\n",
       " 0.7187031245514826,\n",
       " 1.0969679269469996,\n",
       " -1.55088568982162,\n",
       " 0.3404383221559655,\n",
       " -1.1726208874261028,\n",
       " 0.6720028527172776,\n",
       " -0.9625986809193434,\n",
       " -0.4177315030404698,\n",
       " 0.12713567483840388,\n",
       " -0.4177315030404698,\n",
       " 1.2168700305961513,\n",
       " 0.12713567483840388,\n",
       " -1.507465858798217,\n",
       " 1.2168700305961513,\n",
       " 0.12713567483840388,\n",
       " -0.4177315030404698,\n",
       " 1.761737208475025,\n",
       " 1.2168700305961513,\n",
       " 0.6720028527172776,\n",
       " 0.6720028527172776,\n",
       " 1.2168700305961513,\n",
       " 0.12713567483840388,\n",
       " -0.9625986809193434,\n",
       " -0.4177315030404698,\n",
       " -0.4177315030404698,\n",
       " -0.4177315030404698,\n",
       " 0.12713567483840388,\n",
       " -0.4177315030404698,\n",
       " -0.9625986809193434,\n",
       " -0.9625986809193434,\n",
       " 0.12713567483840388,\n",
       " -2.0523330366770907,\n",
       " -2.0523330366770907,\n",
       " 0.6720028527172776,\n",
       " 1.2168700305961513,\n",
       " 0.12713567483840388,\n",
       " 0.6720028527172776,\n",
       " -0.4177315030404698,\n",
       " 0.12713567483840388,\n",
       " 0.6720028527172776,\n",
       " 0.12713567483840388,\n",
       " 0.12713567483840388,\n",
       " 1.761737208475025,\n",
       " 0.12713567483840388,\n",
       " -0.9625986809193434,\n",
       " -1.507465858798217,\n",
       " 1.2168700305961513,\n",
       " 0.6720028527172776,\n",
       " -2.0523330366770907,\n",
       " 0.12713567483840388,\n",
       " -0.4177315030404698,\n",
       " -2.0523330366770907,\n",
       " 0.12713567483840388,\n",
       " 1.2168700305961513,\n",
       " 0.6720028527172776,\n",
       " -1.507465858798217,\n",
       " 0.12713567483840388,\n",
       " -0.9625986809193434,\n",
       " -1.507465858798217,\n",
       " 1.2168700305961513,\n",
       " 0.12713567483840388,\n",
       " 0.12713567483840388,\n",
       " 0.6720028527172776,\n",
       " 1.761737208475025,\n",
       " 0.6720028527172776,\n",
       " 1.1184924095155018,\n",
       " -0.14432160122780655,\n",
       " -0.5652596048089094,\n",
       " -1.407135611971115,\n",
       " 1.1184924095155018,\n",
       " -0.9861976083900121,\n",
       " -0.5652596048089094,\n",
       " -0.5652596048089094,\n",
       " 1.1184924095155018,\n",
       " -1.407135611971115,\n",
       " -1.407135611971115,\n",
       " 1.1184924095155018,\n",
       " 0.27661640235329626,\n",
       " -0.14432160122780655,\n",
       " -0.5652596048089094,\n",
       " 1.1184924095155018,\n",
       " -0.9861976083900121,\n",
       " 1.9603684166777076,\n",
       " 0.27661640235329626,\n",
       " -1.407135611971115,\n",
       " -0.9861976083900121,\n",
       " -1.407135611971115,\n",
       " 1.1184924095155018,\n",
       " 0.6975544059343991,\n",
       " -0.14432160122780655,\n",
       " -0.14432160122780655,\n",
       " -0.14432160122780655,\n",
       " 0.6975544059343991,\n",
       " 1.5394304130966046,\n",
       " 0.27661640235329626,\n",
       " 0.14428390023204613,\n",
       " 0.5049936508121611,\n",
       " 0.14428390023204613,\n",
       " 0.5049936508121611,\n",
       " -0.5771356009281838,\n",
       " -1.6592648526685287,\n",
       " 0.14428390023204613,\n",
       " 1.226413151972391,\n",
       " 1.226413151972391,\n",
       " -1.2985551020884138,\n",
       " -1.2985551020884138,\n",
       " 0.8657034013922761,\n",
       " 0.14428390023204613,\n",
       " 1.226413151972391,\n",
       " -1.2985551020884138,\n",
       " 0.19289712886816504,\n",
       " 1.1573827732089894,\n",
       " -0.7715885154726593,\n",
       " -1.2538313376430714,\n",
       " 0.6751399510385772,\n",
       " 0.6989099096857996,\n",
       " -0.19061179355067276,\n",
       " -0.635372645168909,\n",
       " 1.588431612922272,\n",
       " -0.19061179355067276,\n",
       " -0.19061179355067276,\n",
       " -1.5248943484053814,\n",
       " 1.1436707613040358,\n",
       " -0.19061179355067276,\n",
       " -1.0801334967871452,\n",
       " 1.588431612922272,\n",
       " 0.25414905806756344,\n",
       " 0.25414905806756344,\n",
       " -0.635372645168909,\n",
       " -1.5248943484053814,\n",
       " -0.635372645168909,\n",
       " 2.0331924645405084,\n",
       " 0.6989099096857996,\n",
       " -0.19061179355067276,\n",
       " -0.19061179355067276,\n",
       " 0.25414905806756344,\n",
       " 0.6989099096857996,\n",
       " -0.19061179355067276,\n",
       " -1.5248943484053814,\n",
       " 0.25414905806756344,\n",
       " -0.635372645168909,\n",
       " -1.5248943484053814,\n",
       " -0.19061179355067276,\n",
       " -0.635372645168909,\n",
       " -1.0801334967871452,\n",
       " 1.4677529228497337,\n",
       " 0.19144603341518254,\n",
       " 0.829599478132458,\n",
       " -1.0848608560193684,\n",
       " -0.446707411302093,\n",
       " -1.2801139476072954,\n",
       " -1.2801139476072954,\n",
       " -1.6111778995746995,\n",
       " 0.7062697641971287,\n",
       " -0.6179860436724873,\n",
       " 1.0373337161645326,\n",
       " 0.7062697641971287,\n",
       " -0.2869220917050833,\n",
       " 1.0373337161645326,\n",
       " -1.2801139476072954,\n",
       " 1.0373337161645326,\n",
       " -0.2869220917050833,\n",
       " 0.7062697641971287,\n",
       " 1.0373337161645326,\n",
       " 0.3752058122297247,\n",
       " 1.0062305898749053,\n",
       " -0.11180339887498959,\n",
       " -0.670820393249937,\n",
       " -1.2298373876248845,\n",
       " 1.0062305898749053,\n",
       " 1.1961658975419525,\n",
       " -0.04124709991523959,\n",
       " -0.45371809906763694,\n",
       " -1.2786600973724316,\n",
       " 1.1961658975419525,\n",
       " -0.8661890982200343,\n",
       " -0.8661890982200343,\n",
       " 1.6086368966943498,\n",
       " -0.04124709991523959,\n",
       " -0.45371809906763694,\n",
       " 1.588431612922272,\n",
       " 0.6989099096857996,\n",
       " -0.19061179355067276,\n",
       " 2.0331924645405084,\n",
       " -1.0801334967871452,\n",
       " 1.1925695879998877,\n",
       " 0.44721359549995765,\n",
       " 0.44721359549995765,\n",
       " -1.0434983894999021,\n",
       " -1.0434983894999021,\n",
       " 1.2817078285236518,\n",
       " 0.1094140829227507,\n",
       " 0.1094140829227507,\n",
       " -0.4767327898776999,\n",
       " -1.0628796626781505,\n",
       " 1.2817078285236518,\n",
       " 0.1094140829227507,\n",
       " 0.1094140829227507,\n",
       " -0.4767327898776999,\n",
       " -1.0628796626781505,\n",
       " -2.2351734082790515,\n",
       " -0.4767327898776999,\n",
       " -2.2351734082790515,\n",
       " 1.2817078285236518,\n",
       " 0.6955609557232013,\n",
       " 1.2817078285236518,\n",
       " -1.6490265354786011,\n",
       " 0.6955609557232013,\n",
       " 0.6955609557232013,\n",
       " -0.4767327898776999,\n",
       " -2.2351734082790515,\n",
       " 0.1094140829227507,\n",
       " -1.0628796626781505,\n",
       " 1.2817078285236518,\n",
       " 0.1094140829227507,\n",
       " -1.0628796626781505,\n",
       " 1.2817078285236518,\n",
       " -2.2351734082790515,\n",
       " 0.1094140829227507,\n",
       " 1.2817078285236518,\n",
       " 0.1094140829227507,\n",
       " -0.4767327898776999,\n",
       " -0.4767327898776999,\n",
       " 0.1094140829227507,\n",
       " 0.1094140829227507,\n",
       " -0.4767327898776999,\n",
       " 0.1094140829227507,\n",
       " -1.6490265354786011,\n",
       " 0.6955609557232013,\n",
       " -0.4767327898776999,\n",
       " 0.4868644955601475,\n",
       " 0.4868644955601475,\n",
       " 1.0954451150103321,\n",
       " -1.338877362790406,\n",
       " -0.7302967433402215,\n",
       " -0.635372645168909,\n",
       " 1.588431612922272,\n",
       " 0.25414905806756344,\n",
       " 1.588431612922272,\n",
       " -0.19061179355067276,\n",
       " -0.19289712886816482,\n",
       " 0.7715885154726595,\n",
       " 1.2538313376430716,\n",
       " -0.6751399510385769,\n",
       " -1.1573827732089892,\n",
       " -0.446707411302093,\n",
       " -1.0848608560193684,\n",
       " 1.4677529228497337,\n",
       " 0.19144603341518254,\n",
       " -1.0848608560193684,\n",
       " -0.19061179355067276,\n",
       " 1.1436707613040358,\n",
       " 0.6989099096857996,\n",
       " 0.25414905806756344,\n",
       " -1.5248943484053814,\n",
       " -1.2791245447561024,\n",
       " 1.0896246121996427,\n",
       " -0.3316248819738044,\n",
       " -0.3316248819738044,\n",
       " 0.14212494941734463,\n",
       " 1.5633744435907917,\n",
       " -1.2791245447561024,\n",
       " 1.0896246121996427,\n",
       " -0.8053747133649534,\n",
       " 0.14212494941734463,\n",
       " -0.11429375776070651,\n",
       " 1.6001126086498914,\n",
       " 0.7429094254445925,\n",
       " 1.6001126086498914,\n",
       " -0.9714969409660055,\n",
       " -0.11429375776070651,\n",
       " 0.314307833841943,\n",
       " -1.8287001241713046,\n",
       " -0.9714969409660055,\n",
       " 0.314307833841943,\n",
       " 0.8807710121010883,\n",
       " -0.7706746355884526,\n",
       " 0.8807710121010883,\n",
       " -1.321156518151633,\n",
       " 0.330289129537908,\n",
       " 0.25414905806756344,\n",
       " -0.635372645168909,\n",
       " -0.19061179355067276,\n",
       " 0.25414905806756344,\n",
       " 1.1436707613040358,\n",
       " -1.5248943484053814,\n",
       " -1.5248943484053814,\n",
       " -0.635372645168909,\n",
       " -1.0801334967871452,\n",
       " 0.25414905806756344,\n",
       " -0.4767327898776999,\n",
       " -2.8213202810795024,\n",
       " -0.4767327898776999,\n",
       " 0.1094140829227507,\n",
       " -0.4767327898776999,\n",
       " 1.2817078285236518,\n",
       " 1.2817078285236518,\n",
       " 0.6955609557232013,\n",
       " 0.1094140829227507,\n",
       " 0.1094140829227507,\n",
       " 1.2817078285236518,\n",
       " -0.4767327898776999,\n",
       " 0.1094140829227507,\n",
       " 0.1094140829227507,\n",
       " 0.6955609557232013,\n",
       " 1.2817078285236518,\n",
       " 1.8678547013241025,\n",
       " 0.1094140829227507,\n",
       " -0.4767327898776999,\n",
       " 1.2817078285236518,\n",
       " 0.6955609557232013,\n",
       " 0.1094140829227507,\n",
       " -0.4767327898776999,\n",
       " 0.6955609557232013,\n",
       " 1.2817078285236518,\n",
       " 0.1094140829227507,\n",
       " 0.1094140829227507,\n",
       " -0.4767327898776999,\n",
       " 0.1094140829227507,\n",
       " 0.6955609557232013,\n",
       " 0.25414905806756344,\n",
       " 1.588431612922272,\n",
       " -1.0801334967871452,\n",
       " -1.0801334967871452,\n",
       " -0.19061179355067276,\n",
       " 2.0331924645405084,\n",
       " -0.635372645168909,\n",
       " 0.25414905806756344,\n",
       " -1.3703203194062978,\n",
       " 1.4405931562989283,\n",
       " -1.0189561349431446,\n",
       " 1.0892289718357748,\n",
       " 0.3865006029094684,\n",
       " -0.31622776601683805,\n",
       " -1.3703203194062978,\n",
       " 0.0351364184463152,\n",
       " 0.3865006029094684,\n",
       " 0.7378647873726217,\n",
       " -0.5874179559727101,\n",
       " -1.0207590710345453,\n",
       " 2.0126287343983025,\n",
       " -0.5874179559727101,\n",
       " 1.1459465042746315,\n",
       " -1.0207590710345453,\n",
       " 0.7126053892127961,\n",
       " 1.1459465042746315,\n",
       " -1.0207590710345453,\n",
       " 0.2792642741509607,\n",
       " -1.0207590710345453,\n",
       " 0.7126053892127961,\n",
       " 0.2792642741509607,\n",
       " -0.15407684091087465,\n",
       " 1.1459465042746315,\n",
       " -1.454100186096381,\n",
       " -0.15407684091087465,\n",
       " -1.0207590710345453,\n",
       " -1.454100186096381,\n",
       " -1.0207590710345453,\n",
       " 0.7126053892127961,\n",
       " 0.7126053892127961,\n",
       " -0.5874179559727101,\n",
       " 1.1459465042746315,\n",
       " -1.0207590710345453,\n",
       " -1.454100186096381,\n",
       " 0.7126053892127961,\n",
       " 0.2792642741509607,\n",
       " -0.5874179559727101,\n",
       " 0.2792642741509607,\n",
       " -0.15407684091087465,\n",
       " -0.5874179559727101,\n",
       " 0.2792642741509607,\n",
       " 1.1459465042746315,\n",
       " 2.0126287343983025,\n",
       " -0.5874179559727101,\n",
       " -1.8874413011582163,\n",
       " 0.7126053892127961,\n",
       " -0.15407684091087465,\n",
       " 0.2792642741509607,\n",
       " 0.7126053892127961,\n",
       " -1.0207590710345453,\n",
       " 0.7126053892127961,\n",
       " -0.5874179559727101,\n",
       " 2.0126287343983025,\n",
       " -0.9861976083900121,\n",
       " 1.5394304130966046,\n",
       " -0.9861976083900121,\n",
       " 0.6975544059343991,\n",
       " 0.27661640235329626,\n",
       " -0.13483997249264792,\n",
       " -0.13483997249264792,\n",
       " -1.483239697419132,\n",
       " 1.2135597524338362,\n",
       " 0.5393598899705941,\n",
       " 1.2138862854015195,\n",
       " -0.3423781830619669,\n",
       " -0.6536310767546641,\n",
       " 0.28012760432342765,\n",
       " -0.6536310767546641,\n",
       " -0.3423781830619669,\n",
       " -0.9648839704473615,\n",
       " -1.2761368641400588,\n",
       " 1.2138862854015195,\n",
       " 1.5251391790942168,\n",
       " 1.0690827157462355,\n",
       " 1.0690827157462355,\n",
       " 0.12577443714661626,\n",
       " 0.12577443714661626,\n",
       " -0.8175338414530028,\n",
       " 0.12577443714661626,\n",
       " 2.0123909943458544,\n",
       " 0.12577443714661626,\n",
       " 0.12577443714661626,\n",
       " -1.7608421200526219,\n",
       " -1.7608421200526219,\n",
       " 0.12577443714661626,\n",
       " -0.8175338414530028,\n",
       " 0.12577443714661626,\n",
       " 0.12577443714661626,\n",
       " 1.6001126086498914,\n",
       " 0.314307833841943,\n",
       " -0.11429375776070651,\n",
       " -1.400098532568655,\n",
       " -1.400098532568655,\n",
       " -0.9714969409660055,\n",
       " 0.7429094254445925,\n",
       " -0.11429375776070651,\n",
       " 1.171511017047242,\n",
       " -1.8287001241713046,\n",
       " 0.6324555320336759,\n",
       " -1.2649110640673518,\n",
       " 0.0,\n",
       " -0.6324555320336759,\n",
       " 1.2649110640673518,\n",
       " -0.11429375776070651,\n",
       " 0.7429094254445925,\n",
       " 0.7429094254445925,\n",
       " 0.314307833841943,\n",
       " 0.7429094254445925,\n",
       " -0.9007039500489618,\n",
       " -0.33776398126836055,\n",
       " 0.2251759875122407,\n",
       " -0.9007039500489618,\n",
       " 0.7881159562928419,\n",
       " 0.2251759875122407,\n",
       " -0.33776398126836055,\n",
       " -1.4636439188295631,\n",
       " 1.9139958938540444,\n",
       " 0.7881159562928419,\n",
       " -0.9714969409660055,\n",
       " -0.9714969409660055,\n",
       " -0.11429375776070651,\n",
       " 1.171511017047242,\n",
       " -0.11429375776070651,\n",
       " -0.17374889710522792,\n",
       " 1.5637400739470497,\n",
       " -1.0424933826313667,\n",
       " 0.2606233456578415,\n",
       " -0.6081211398682973,\n",
       " 1.0954451150103321,\n",
       " 0.4868644955601475,\n",
       " -0.7302967433402215,\n",
       " 0.4868644955601475,\n",
       " -1.338877362790406]"
      ]
     },
     "execution_count": 48,
     "metadata": {},
     "output_type": "execute_result"
    }
   ],
   "source": [
    "ratings_normalized"
   ]
  },
  {
   "cell_type": "code",
   "execution_count": 49,
   "metadata": {},
   "outputs": [
    {
     "data": {
      "text/plain": [
       "Text(0, 0.5, 'Z Score')"
      ]
     },
     "execution_count": 49,
     "metadata": {},
     "output_type": "execute_result"
    },
    {
     "data": {
      "image/png": "[encoded data removed]",
      "text/plain": [
       "<Figure size 1440x720 with 1 Axes>"
      ]
     },
     "metadata": {
      "needs_background": "light"
     },
     "output_type": "display_data"
    }
   ],
   "source": [
    "plt.figure(figsize = (20,10))\n",
    "plt.plot(ratings_normalized)\n",
    "plt.title(\"Z scores of ratings\")\n",
    "plt.xlabel(\"Rating Number\")\n",
    "plt.ylabel(\"Z Score\")"
   ]
  },
  {
   "cell_type": "code",
   "execution_count": 50,
   "metadata": {},
   "outputs": [
    {
     "data": {
      "text/plain": [
       "Text(0, 0.5, 'frequency')"
      ]
     },
     "execution_count": 50,
     "metadata": {},
     "output_type": "execute_result"
    },
    {
     "data": {
      "image/png": "[encoded data removed]",
      "text/plain": [
       "<Figure size 1440x720 with 1 Axes>"
      ]
     },
     "metadata": {
      "needs_background": "light"
     },
     "output_type": "display_data"
    }
   ],
   "source": [
    "plt.figure(figsize = (20,10))\n",
    "plt.hist(ratings_normalized, bins = 'auto')\n",
    "plt.title(\"Frequency of Z-Scores\")\n",
    "plt.xlabel(\"z-score\")\n",
    "plt.ylabel(\"frequency\")\n"
   ]
  },
  {
   "cell_type": "markdown",
   "metadata": {},
   "source": [
    "We can see visually that these z scores are all centered around 0, which is a good sign!"
   ]
  },
  {
   "cell_type": "code",
   "execution_count": 51,
   "metadata": {},
   "outputs": [],
   "source": [
    "#add the z scores to the original dataframe\n",
    "ratings_df['z_score'] = ratings_normalized"
   ]
  },
  {
   "cell_type": "code",
   "execution_count": 52,
   "metadata": {},
   "outputs": [],
   "source": [
    "#finally, take the average of the z scores of each recording to get a final value for those recordings\n",
    "ratings_zscores = ratings_df.groupby('rating_id').mean()"
   ]
  },
  {
   "cell_type": "code",
   "execution_count": 53,
   "metadata": {
    "scrolled": true
   },
   "outputs": [
    {
     "data": {
      "text/html": [
       "<div>\n",
       "<style scoped>\n",
       "    .dataframe tbody tr th:only-of-type {\n",
       "        vertical-align: middle;\n",
       "    }\n",
       "\n",
       "    .dataframe tbody tr th {\n",
       "        vertical-align: top;\n",
       "    }\n",
       "\n",
       "    .dataframe thead th {\n",
       "        text-align: right;\n",
       "    }\n",
       "</style>\n",
       "<table border=\"1\" class=\"dataframe\">\n",
       "  <thead>\n",
       "    <tr style=\"text-align: right;\">\n",
       "      <th></th>\n",
       "      <th>rating</th>\n",
       "      <th>z_score</th>\n",
       "    </tr>\n",
       "    <tr>\n",
       "      <th>rating_id</th>\n",
       "      <th></th>\n",
       "      <th></th>\n",
       "    </tr>\n",
       "  </thead>\n",
       "  <tbody>\n",
       "    <tr>\n",
       "      <th>recording0.mp3</th>\n",
       "      <td>9.50</td>\n",
       "      <td>1.562767</td>\n",
       "    </tr>\n",
       "    <tr>\n",
       "      <th>recording1.mp3</th>\n",
       "      <td>9.25</td>\n",
       "      <td>1.182873</td>\n",
       "    </tr>\n",
       "    <tr>\n",
       "      <th>recording10.mp3</th>\n",
       "      <td>4.25</td>\n",
       "      <td>-0.965464</td>\n",
       "    </tr>\n",
       "    <tr>\n",
       "      <th>recording11.mp3</th>\n",
       "      <td>7.50</td>\n",
       "      <td>0.707929</td>\n",
       "    </tr>\n",
       "    <tr>\n",
       "      <th>recording12.mp3</th>\n",
       "      <td>6.75</td>\n",
       "      <td>0.811068</td>\n",
       "    </tr>\n",
       "  </tbody>\n",
       "</table>\n",
       "</div>"
      ],
      "text/plain": [
       "                 rating   z_score\n",
       "rating_id                        \n",
       "recording0.mp3     9.50  1.562767\n",
       "recording1.mp3     9.25  1.182873\n",
       "recording10.mp3    4.25 -0.965464\n",
       "recording11.mp3    7.50  0.707929\n",
       "recording12.mp3    6.75  0.811068"
      ]
     },
     "execution_count": 53,
     "metadata": {},
     "output_type": "execute_result"
    }
   ],
   "source": [
    "ratings_zscores.head()"
   ]
  },
  {
   "cell_type": "markdown",
   "metadata": {},
   "source": [
    "If we decide that we want to use ML to predict a categorical variable instead of a continuous (like we have with z scores), we can use the pd.cut() function.  \n",
    "\n",
    "When we run that below, we see that it segments the three categories to be (-1.689 to -0.58), (-0.58 to 0.524), and (0.524 to 1.629). This seems reasonable - the first group would be recordings that had consistently bad reviews. The second is \"average\" recordings, and the third group has recordings that had better than average reviews.  \n",
    "\n",
    "If we go this route, we know that all three groups will have the same amount of reviews in them. "
   ]
  },
  {
   "cell_type": "code",
   "execution_count": 54,
   "metadata": {},
   "outputs": [
    {
     "data": {
      "text/plain": [
       "rating_id\n",
       "recording0.mp3        (0.51, 1.63]\n",
       "recording1.mp3        (0.51, 1.63]\n",
       "recording10.mp3    (-1.734, -0.61]\n",
       "recording11.mp3       (0.51, 1.63]\n",
       "recording12.mp3       (0.51, 1.63]\n",
       "                        ...       \n",
       "recording84.mp3       (0.51, 1.63]\n",
       "recording85.mp3    (-1.734, -0.61]\n",
       "recording86.mp3      (-0.61, 0.51]\n",
       "recording87.mp3    (-1.734, -0.61]\n",
       "recording9.mp3     (-1.734, -0.61]\n",
       "Name: z_score, Length: 88, dtype: category\n",
       "Categories (3, interval[float64]): [(-1.734, -0.61] < (-0.61, 0.51] < (0.51, 1.63]]"
      ]
     },
     "execution_count": 54,
     "metadata": {},
     "output_type": "execute_result"
    }
   ],
   "source": [
    "pd.cut(ratings_zscores['z_score'], 3)"
   ]
  },
  {
   "cell_type": "code",
   "execution_count": 55,
   "metadata": {},
   "outputs": [],
   "source": [
    "def assign_category(df):\n",
    "    if df['z_score'] <= -0.61:\n",
    "        ret_val = \"bad\"\n",
    "    elif df['z_score'] <= 0.51:\n",
    "        ret_val = \"okay\"\n",
    "    else:\n",
    "        ret_val = \"good\"\n",
    "\n",
    "    return ret_val\n",
    "\n",
    "ratings_zscores['category'] = ratings_zscores.apply(assign_category, axis = 1)"
   ]
  },
  {
   "cell_type": "markdown",
   "metadata": {},
   "source": [
    "We will also make a column for a binary category"
   ]
  },
  {
   "cell_type": "code",
   "execution_count": 56,
   "metadata": {},
   "outputs": [
    {
     "data": {
      "text/plain": [
       "rating_id\n",
       "recording0.mp3       (-0.0503, 1.63]\n",
       "recording1.mp3       (-0.0503, 1.63]\n",
       "recording10.mp3    (-1.734, -0.0503]\n",
       "recording11.mp3      (-0.0503, 1.63]\n",
       "recording12.mp3      (-0.0503, 1.63]\n",
       "                         ...        \n",
       "recording84.mp3      (-0.0503, 1.63]\n",
       "recording85.mp3    (-1.734, -0.0503]\n",
       "recording86.mp3      (-0.0503, 1.63]\n",
       "recording87.mp3    (-1.734, -0.0503]\n",
       "recording9.mp3     (-1.734, -0.0503]\n",
       "Name: z_score, Length: 88, dtype: category\n",
       "Categories (2, interval[float64]): [(-1.734, -0.0503] < (-0.0503, 1.63]]"
      ]
     },
     "execution_count": 56,
     "metadata": {},
     "output_type": "execute_result"
    }
   ],
   "source": [
    "pd.cut(ratings_zscores['z_score'], 2)"
   ]
  },
  {
   "cell_type": "code",
   "execution_count": 57,
   "metadata": {},
   "outputs": [],
   "source": [
    "def assign_binary_category(df):\n",
    "    if df['z_score'] <= -0.0503:\n",
    "        ret_val = \"bad\"\n",
    "    else:\n",
    "        ret_val = \"good\"\n",
    "\n",
    "    return ret_val\n",
    "\n",
    "\n",
    "ratings_zscores['binary_category'] = ratings_zscores.apply(assign_binary_category, axis = 1)"
   ]
  },
  {
   "cell_type": "code",
   "execution_count": 59,
   "metadata": {},
   "outputs": [
    {
     "data": {
      "text/html": [
       "<div>\n",
       "<style scoped>\n",
       "    .dataframe tbody tr th:only-of-type {\n",
       "        vertical-align: middle;\n",
       "    }\n",
       "\n",
       "    .dataframe tbody tr th {\n",
       "        vertical-align: top;\n",
       "    }\n",
       "\n",
       "    .dataframe thead th {\n",
       "        text-align: right;\n",
       "    }\n",
       "</style>\n",
       "<table border=\"1\" class=\"dataframe\">\n",
       "  <thead>\n",
       "    <tr style=\"text-align: right;\">\n",
       "      <th></th>\n",
       "      <th>rating</th>\n",
       "      <th>z_score</th>\n",
       "      <th>category</th>\n",
       "      <th>binary_category</th>\n",
       "    </tr>\n",
       "    <tr>\n",
       "      <th>rating_id</th>\n",
       "      <th></th>\n",
       "      <th></th>\n",
       "      <th></th>\n",
       "      <th></th>\n",
       "    </tr>\n",
       "  </thead>\n",
       "  <tbody>\n",
       "    <tr>\n",
       "      <th>recording0.mp3</th>\n",
       "      <td>9.500000</td>\n",
       "      <td>1.562767</td>\n",
       "      <td>good</td>\n",
       "      <td>good</td>\n",
       "    </tr>\n",
       "    <tr>\n",
       "      <th>recording1.mp3</th>\n",
       "      <td>9.250000</td>\n",
       "      <td>1.182873</td>\n",
       "      <td>good</td>\n",
       "      <td>good</td>\n",
       "    </tr>\n",
       "    <tr>\n",
       "      <th>recording11.mp3</th>\n",
       "      <td>7.500000</td>\n",
       "      <td>0.707929</td>\n",
       "      <td>good</td>\n",
       "      <td>good</td>\n",
       "    </tr>\n",
       "    <tr>\n",
       "      <th>recording12.mp3</th>\n",
       "      <td>6.750000</td>\n",
       "      <td>0.811068</td>\n",
       "      <td>good</td>\n",
       "      <td>good</td>\n",
       "    </tr>\n",
       "    <tr>\n",
       "      <th>recording21.mp3</th>\n",
       "      <td>6.777778</td>\n",
       "      <td>0.545591</td>\n",
       "      <td>good</td>\n",
       "      <td>good</td>\n",
       "    </tr>\n",
       "    <tr>\n",
       "      <th>recording23.mp3</th>\n",
       "      <td>6.500000</td>\n",
       "      <td>0.562709</td>\n",
       "      <td>good</td>\n",
       "      <td>good</td>\n",
       "    </tr>\n",
       "    <tr>\n",
       "      <th>recording28.mp3</th>\n",
       "      <td>7.000000</td>\n",
       "      <td>0.952026</td>\n",
       "      <td>good</td>\n",
       "      <td>good</td>\n",
       "    </tr>\n",
       "    <tr>\n",
       "      <th>recording3.mp3</th>\n",
       "      <td>9.000000</td>\n",
       "      <td>1.450749</td>\n",
       "      <td>good</td>\n",
       "      <td>good</td>\n",
       "    </tr>\n",
       "    <tr>\n",
       "      <th>recording30.mp3</th>\n",
       "      <td>7.500000</td>\n",
       "      <td>0.837206</td>\n",
       "      <td>good</td>\n",
       "      <td>good</td>\n",
       "    </tr>\n",
       "    <tr>\n",
       "      <th>recording31.mp3</th>\n",
       "      <td>8.166667</td>\n",
       "      <td>1.076238</td>\n",
       "      <td>good</td>\n",
       "      <td>good</td>\n",
       "    </tr>\n",
       "    <tr>\n",
       "      <th>recording32.mp3</th>\n",
       "      <td>7.166667</td>\n",
       "      <td>0.778961</td>\n",
       "      <td>good</td>\n",
       "      <td>good</td>\n",
       "    </tr>\n",
       "    <tr>\n",
       "      <th>recording34.mp3</th>\n",
       "      <td>7.800000</td>\n",
       "      <td>0.930116</td>\n",
       "      <td>good</td>\n",
       "      <td>good</td>\n",
       "    </tr>\n",
       "    <tr>\n",
       "      <th>recording35.mp3</th>\n",
       "      <td>8.250000</td>\n",
       "      <td>1.629737</td>\n",
       "      <td>good</td>\n",
       "      <td>good</td>\n",
       "    </tr>\n",
       "    <tr>\n",
       "      <th>recording36.mp3</th>\n",
       "      <td>6.857143</td>\n",
       "      <td>0.556478</td>\n",
       "      <td>good</td>\n",
       "      <td>good</td>\n",
       "    </tr>\n",
       "    <tr>\n",
       "      <th>recording38.mp3</th>\n",
       "      <td>7.444444</td>\n",
       "      <td>0.742392</td>\n",
       "      <td>good</td>\n",
       "      <td>good</td>\n",
       "    </tr>\n",
       "    <tr>\n",
       "      <th>recording4.mp3</th>\n",
       "      <td>6.750000</td>\n",
       "      <td>0.795809</td>\n",
       "      <td>good</td>\n",
       "      <td>good</td>\n",
       "    </tr>\n",
       "    <tr>\n",
       "      <th>recording48.mp3</th>\n",
       "      <td>6.833333</td>\n",
       "      <td>0.708551</td>\n",
       "      <td>good</td>\n",
       "      <td>good</td>\n",
       "    </tr>\n",
       "    <tr>\n",
       "      <th>recording52.mp3</th>\n",
       "      <td>7.000000</td>\n",
       "      <td>0.987777</td>\n",
       "      <td>good</td>\n",
       "      <td>good</td>\n",
       "    </tr>\n",
       "    <tr>\n",
       "      <th>recording55.mp3</th>\n",
       "      <td>8.333333</td>\n",
       "      <td>0.560342</td>\n",
       "      <td>good</td>\n",
       "      <td>good</td>\n",
       "    </tr>\n",
       "    <tr>\n",
       "      <th>recording60.mp3</th>\n",
       "      <td>7.250000</td>\n",
       "      <td>1.147625</td>\n",
       "      <td>good</td>\n",
       "      <td>good</td>\n",
       "    </tr>\n",
       "    <tr>\n",
       "      <th>recording62.mp3</th>\n",
       "      <td>7.666667</td>\n",
       "      <td>0.828061</td>\n",
       "      <td>good</td>\n",
       "      <td>good</td>\n",
       "    </tr>\n",
       "    <tr>\n",
       "      <th>recording65.mp3</th>\n",
       "      <td>7.000000</td>\n",
       "      <td>0.573286</td>\n",
       "      <td>good</td>\n",
       "      <td>good</td>\n",
       "    </tr>\n",
       "    <tr>\n",
       "      <th>recording7.mp3</th>\n",
       "      <td>6.750000</td>\n",
       "      <td>0.582639</td>\n",
       "      <td>good</td>\n",
       "      <td>good</td>\n",
       "    </tr>\n",
       "    <tr>\n",
       "      <th>recording70.mp3</th>\n",
       "      <td>8.750000</td>\n",
       "      <td>1.146388</td>\n",
       "      <td>good</td>\n",
       "      <td>good</td>\n",
       "    </tr>\n",
       "    <tr>\n",
       "      <th>recording71.mp3</th>\n",
       "      <td>8.285714</td>\n",
       "      <td>1.159132</td>\n",
       "      <td>good</td>\n",
       "      <td>good</td>\n",
       "    </tr>\n",
       "    <tr>\n",
       "      <th>recording72.mp3</th>\n",
       "      <td>6.625000</td>\n",
       "      <td>0.517490</td>\n",
       "      <td>good</td>\n",
       "      <td>good</td>\n",
       "    </tr>\n",
       "    <tr>\n",
       "      <th>recording83.mp3</th>\n",
       "      <td>8.125000</td>\n",
       "      <td>1.190325</td>\n",
       "      <td>good</td>\n",
       "      <td>good</td>\n",
       "    </tr>\n",
       "    <tr>\n",
       "      <th>recording84.mp3</th>\n",
       "      <td>8.700000</td>\n",
       "      <td>1.285456</td>\n",
       "      <td>good</td>\n",
       "      <td>good</td>\n",
       "    </tr>\n",
       "  </tbody>\n",
       "</table>\n",
       "</div>"
      ],
      "text/plain": [
       "                   rating   z_score category binary_category\n",
       "rating_id                                                   \n",
       "recording0.mp3   9.500000  1.562767     good            good\n",
       "recording1.mp3   9.250000  1.182873     good            good\n",
       "recording11.mp3  7.500000  0.707929     good            good\n",
       "recording12.mp3  6.750000  0.811068     good            good\n",
       "recording21.mp3  6.777778  0.545591     good            good\n",
       "recording23.mp3  6.500000  0.562709     good            good\n",
       "recording28.mp3  7.000000  0.952026     good            good\n",
       "recording3.mp3   9.000000  1.450749     good            good\n",
       "recording30.mp3  7.500000  0.837206     good            good\n",
       "recording31.mp3  8.166667  1.076238     good            good\n",
       "recording32.mp3  7.166667  0.778961     good            good\n",
       "recording34.mp3  7.800000  0.930116     good            good\n",
       "recording35.mp3  8.250000  1.629737     good            good\n",
       "recording36.mp3  6.857143  0.556478     good            good\n",
       "recording38.mp3  7.444444  0.742392     good            good\n",
       "recording4.mp3   6.750000  0.795809     good            good\n",
       "recording48.mp3  6.833333  0.708551     good            good\n",
       "recording52.mp3  7.000000  0.987777     good            good\n",
       "recording55.mp3  8.333333  0.560342     good            good\n",
       "recording60.mp3  7.250000  1.147625     good            good\n",
       "recording62.mp3  7.666667  0.828061     good            good\n",
       "recording65.mp3  7.000000  0.573286     good            good\n",
       "recording7.mp3   6.750000  0.582639     good            good\n",
       "recording70.mp3  8.750000  1.146388     good            good\n",
       "recording71.mp3  8.285714  1.159132     good            good\n",
       "recording72.mp3  6.625000  0.517490     good            good\n",
       "recording83.mp3  8.125000  1.190325     good            good\n",
       "recording84.mp3  8.700000  1.285456     good            good"
      ]
     },
     "execution_count": 59,
     "metadata": {},
     "output_type": "execute_result"
    }
   ],
   "source": [
    "ratings_zscores[ratings_zscores['category'] == 'good']"
   ]
  },
  {
   "cell_type": "code",
   "execution_count": 60,
   "metadata": {},
   "outputs": [
    {
     "data": {
      "text/plain": [
       "Index([], dtype='object', name='rating_id')"
      ]
     },
     "execution_count": 60,
     "metadata": {},
     "output_type": "execute_result"
    }
   ],
   "source": [
    "#below, I am just finding the recordings that haven't been selected often by the randomizer - I am going to change the randomizer to only choose from these for a day or two\n",
    "\n",
    "rating_counts = ratings_df.groupby('rating_id').count()\n",
    "rating_counts[rating_counts['name'] < 3].index"
   ]
  },
  {
   "cell_type": "code",
   "execution_count": 61,
   "metadata": {},
   "outputs": [],
   "source": [
    "#output the data \n",
    "\n",
    "ratings_zscores.to_csv(\"C:\\\\Users\\\\baile\\\\OneDrive\\\\Desktop\\\\Classes\\\\Fall2020Classes\\\\Thesis\\\\Please_Dont_Sing\\\\collect_and_clean\\\\normalized_ratings.csv\")"
   ]
  },
  {
   "cell_type": "markdown",
   "metadata": {},
   "source": [
    "## Next, we will look into whether there are outliers in the dataset"
   ]
  },
  {
   "cell_type": "code",
   "execution_count": 30,
   "metadata": {},
   "outputs": [],
   "source": [
    "audio_frequencies_1000 = pd.read_csv(\"C:\\\\Users\\\\baile\\\\OneDrive\\\\Desktop\\\\Classes\\\\Fall2020Classes\\\\Thesis\\\\Please_Dont_Sing\\\\collect_and_clean\\\\complete_audio_freqs.csv\")"
   ]
  },
  {
   "cell_type": "code",
   "execution_count": 31,
   "metadata": {},
   "outputs": [],
   "source": [
    "df_zscore = audio_frequencies_1000.apply(zscore)"
   ]
  },
  {
   "cell_type": "markdown",
   "metadata": {},
   "source": [
    "the above allowed us to see the z scores of each frequency, which can help us determine if there are outliers\n"
   ]
  },
  {
   "cell_type": "code",
   "execution_count": 68,
   "metadata": {},
   "outputs": [
    {
     "name": "stdout",
     "output_type": "stream",
     "text": [
      "0      89.24\n",
      "1      94.61\n",
      "2     167.31\n",
      "3      86.30\n",
      "4     206.78\n",
      "       ...  \n",
      "83    292.44\n",
      "84    114.14\n",
      "85    150.32\n",
      "86    263.11\n",
      "87     45.33\n",
      "Name: frequency0, Length: 88, dtype: float64\n"
     ]
    }
   ],
   "source": [
    "print(audio_frequencies_1000.iloc[:, 0])"
   ]
  },
  {
   "cell_type": "code",
   "execution_count": 69,
   "metadata": {},
   "outputs": [
    {
     "data": {
      "text/plain": [
       "<matplotlib.axes._subplots.AxesSubplot at 0x1c9a817b6a0>"
      ]
     },
     "execution_count": 69,
     "metadata": {},
     "output_type": "execute_result"
    },
    {
     "data": {
      "image/png": "[encoded data removed]",
      "text/plain": [
       "<Figure size 432x288 with 1 Axes>"
      ]
     },
     "metadata": {
      "needs_background": "light"
     },
     "output_type": "display_data"
    }
   ],
   "source": [
    "sns.boxplot(audio_frequencies_1000.iloc[:, 0])"
   ]
  },
  {
   "cell_type": "code",
   "execution_count": 72,
   "metadata": {},
   "outputs": [
    {
     "data": {
      "text/plain": [
       "<matplotlib.axes._subplots.AxesSubplot at 0x1c9a8123280>"
      ]
     },
     "execution_count": 72,
     "metadata": {},
     "output_type": "execute_result"
    },
    {
     "data": {
      "image/png": "[encoded data removed]",
      "text/plain": [
       "<Figure size 432x288 with 1 Axes>"
      ]
     },
     "metadata": {
      "needs_background": "light"
     },
     "output_type": "display_data"
    }
   ],
   "source": [
    "sns.boxplot(audio_frequencies_1000.iloc[:, 1])"
   ]
  },
  {
   "cell_type": "code",
   "execution_count": 73,
   "metadata": {},
   "outputs": [
    {
     "data": {
      "text/plain": [
       "<matplotlib.axes._subplots.AxesSubplot at 0x1c9a7757a90>"
      ]
     },
     "execution_count": 73,
     "metadata": {},
     "output_type": "execute_result"
    },
    {
     "data": {
      "image/png": "[encoded data removed]",
      "text/plain": [
       "<Figure size 432x288 with 1 Axes>"
      ]
     },
     "metadata": {
      "needs_background": "light"
     },
     "output_type": "display_data"
    }
   ],
   "source": [
    "sns.boxplot(audio_frequencies_1000.iloc[:, 2])"
   ]
  },
  {
   "cell_type": "code",
   "execution_count": 75,
   "metadata": {},
   "outputs": [
    {
     "data": {
      "text/plain": [
       "<matplotlib.axes._subplots.AxesSubplot at 0x1c9a779f8b0>"
      ]
     },
     "execution_count": 75,
     "metadata": {},
     "output_type": "execute_result"
    },
    {
     "data": {
      "image/png": "[encoded data removed]",
      "text/plain": [
       "<Figure size 432x288 with 1 Axes>"
      ]
     },
     "metadata": {
      "needs_background": "light"
     },
     "output_type": "display_data"
    }
   ],
   "source": [
    "sns.boxplot(audio_frequencies_1000.iloc[:, 3])"
   ]
  },
  {
   "cell_type": "code",
   "execution_count": null,
   "metadata": {},
   "outputs": [],
   "source": []
  }
 ],
 "metadata": {
  "kernelspec": {
   "display_name": "Python 3",
   "language": "python",
   "name": "python3"
  },
  "language_info": {
   "codemirror_mode": {
    "name": "ipython",
    "version": 3
   },
   "file_extension": ".py",
   "mimetype": "text/x-python",
   "name": "python",
   "nbconvert_exporter": "python",
   "pygments_lexer": "ipython3",
   "version": "3.8.3"
  }
 },
 "nbformat": 4,
 "nbformat_minor": 4
}
